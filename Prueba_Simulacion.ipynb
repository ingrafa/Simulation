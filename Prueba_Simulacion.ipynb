{
  "nbformat": 4,
  "nbformat_minor": 0,
  "metadata": {
    "colab": {
      "name": "Prueba Simulacion.ipynb",
      "provenance": [],
      "include_colab_link": true
    },
    "kernelspec": {
      "name": "python3",
      "display_name": "Python 3"
    },
    "language_info": {
      "name": "python"
    }
  },
  "cells": [
    {
      "cell_type": "markdown",
      "metadata": {
        "id": "view-in-github",
        "colab_type": "text"
      },
      "source": [
        "<a href=\"https://colab.research.google.com/github/ingrafa/Simulation/blob/main/Prueba_Simulacion.ipynb\" target=\"_parent\"><img src=\"https://colab.research.google.com/assets/colab-badge.svg\" alt=\"Open In Colab\"/></a>"
      ]
    },
    {
      "cell_type": "markdown",
      "metadata": {
        "id": "_7w0hH04ipJ9"
      },
      "source": [
        "# Universidad Politecnica Salesina:\n",
        "# Prueba de Simulacion\n",
        "# Estudiante Rafael Angamarca\n",
        "Desarrollo:    \n"
      ]
    },
    {
      "cell_type": "code",
      "metadata": {
        "colab": {
          "base_uri": "https://localhost:8080/"
        },
        "id": "hz3ZJAwHhtP0",
        "outputId": "30262910-125b-4fda-d5d7-5f782e89226f"
      },
      "source": [
        "#Cargamos Datos desde Google Drive\n",
        "from google.colab import drive\n",
        "drive.mount('/content/drive')"
      ],
      "execution_count": 1,
      "outputs": [
        {
          "output_type": "stream",
          "name": "stdout",
          "text": [
            "Mounted at /content/drive\n"
          ]
        }
      ]
    },
    {
      "cell_type": "code",
      "metadata": {
        "id": "9tmHOOYuRbum"
      },
      "source": [
        "#pip install datapane"
      ],
      "execution_count": 5,
      "outputs": []
    },
    {
      "cell_type": "code",
      "metadata": {
        "id": "Vjh7UwNURth9"
      },
      "source": [
        "# Importsmos datos  \n",
        "import pandas as pd\n",
        "import numpy as np\n",
        "import plotly as ply\n",
        "import plotly.graph_objects as go\n",
        "import plotly.express as px\n",
        "import datapane as dp"
      ],
      "execution_count": 6,
      "outputs": []
    },
    {
      "cell_type": "code",
      "metadata": {
        "colab": {
          "base_uri": "https://localhost:8080/",
          "height": 363
        },
        "id": "w3zQ8qQZV0Df",
        "outputId": "72bd6cee-329c-4ec8-ce51-47f3dbdda336"
      },
      "source": [
        "#Cargamos Datos .scv\n",
        "\n",
        "df = pd.read_csv(\"/content/drive/MyDrive/Project/1.Poblaciones.csv\", encoding='latin1', sep = ';', skiprows=2)\n",
        "\n",
        "df.rename(columns ={\n",
        "    'Unnamed: 0':'Encuesta','Unnamed: 1':'Periodo','Unnamed: 2':'Indicadores', 'Unnamed: 5':'Area'\n",
        "    ,'Unnamed: 7':'Sexo'\n",
        "}, inplace = True)\n",
        "df = df.drop(df.columns[[8, 9, 10, 11, 12, 13, 14, 15, 16, 17, 18]], axis=1) \n",
        "df[\"Total\"] = df[\"Total\"].str.replace(\".\", \"\").astype(int)\n",
        "df[\"Urbana\"] = df[\"Urbana\"].str.replace(\".\", \"\").astype(int)\n",
        "df[\"Rural\"] = df[\"Rural\"].str.replace(\".\", \"\").astype(int)\n",
        "df[\"Hombre\"] = df[\"Hombre\"].str.replace(\".\", \"\").astype(int)\n",
        "df[\"Mujer\"] = df[\"Mujer\"].str.replace(\".\", \"\").astype(int)\n",
        "\n",
        "df.head(10)\n",
        "\n"
      ],
      "execution_count": 7,
      "outputs": [
        {
          "output_type": "execute_result",
          "data": {
            "text/html": [
              "<div>\n",
              "<style scoped>\n",
              "    .dataframe tbody tr th:only-of-type {\n",
              "        vertical-align: middle;\n",
              "    }\n",
              "\n",
              "    .dataframe tbody tr th {\n",
              "        vertical-align: top;\n",
              "    }\n",
              "\n",
              "    .dataframe thead th {\n",
              "        text-align: right;\n",
              "    }\n",
              "</style>\n",
              "<table border=\"1\" class=\"dataframe\">\n",
              "  <thead>\n",
              "    <tr style=\"text-align: right;\">\n",
              "      <th></th>\n",
              "      <th>Encuesta</th>\n",
              "      <th>Periodo</th>\n",
              "      <th>Indicadores</th>\n",
              "      <th>Total</th>\n",
              "      <th>Urbana</th>\n",
              "      <th>Rural</th>\n",
              "      <th>Hombre</th>\n",
              "      <th>Mujer</th>\n",
              "    </tr>\n",
              "  </thead>\n",
              "  <tbody>\n",
              "    <tr>\n",
              "      <th>0</th>\n",
              "      <td>ENEMDU</td>\n",
              "      <td>dic-07</td>\n",
              "      <td>Población Total</td>\n",
              "      <td>13682302</td>\n",
              "      <td>9066209</td>\n",
              "      <td>4616093</td>\n",
              "      <td>6768646</td>\n",
              "      <td>6913656</td>\n",
              "    </tr>\n",
              "    <tr>\n",
              "      <th>1</th>\n",
              "      <td>ENEMDU</td>\n",
              "      <td>dic-07</td>\n",
              "      <td>Población menor de 15 años</td>\n",
              "      <td>4372812</td>\n",
              "      <td>2723124</td>\n",
              "      <td>1649688</td>\n",
              "      <td>2226618</td>\n",
              "      <td>2146194</td>\n",
              "    </tr>\n",
              "    <tr>\n",
              "      <th>2</th>\n",
              "      <td>ENEMDU</td>\n",
              "      <td>dic-07</td>\n",
              "      <td>Población en Edad de Trabajar (PET)</td>\n",
              "      <td>9309490</td>\n",
              "      <td>6343085</td>\n",
              "      <td>2966404</td>\n",
              "      <td>4542028</td>\n",
              "      <td>4767462</td>\n",
              "    </tr>\n",
              "    <tr>\n",
              "      <th>3</th>\n",
              "      <td>ENEMDU</td>\n",
              "      <td>dic-07</td>\n",
              "      <td>Población Económicamente Activa</td>\n",
              "      <td>6336029</td>\n",
              "      <td>4227702</td>\n",
              "      <td>2108328</td>\n",
              "      <td>3777232</td>\n",
              "      <td>2558798</td>\n",
              "    </tr>\n",
              "    <tr>\n",
              "      <th>4</th>\n",
              "      <td>ENEMDU</td>\n",
              "      <td>dic-07</td>\n",
              "      <td>Empleo</td>\n",
              "      <td>6019332</td>\n",
              "      <td>3971040</td>\n",
              "      <td>2048292</td>\n",
              "      <td>3632314</td>\n",
              "      <td>2387018</td>\n",
              "    </tr>\n",
              "    <tr>\n",
              "      <th>5</th>\n",
              "      <td>ENEMDU</td>\n",
              "      <td>dic-07</td>\n",
              "      <td>Empleo Adecuado/Pleno</td>\n",
              "      <td>2737158</td>\n",
              "      <td>2236440</td>\n",
              "      <td>500719</td>\n",
              "      <td>1907451</td>\n",
              "      <td>829707</td>\n",
              "    </tr>\n",
              "    <tr>\n",
              "      <th>6</th>\n",
              "      <td>ENEMDU</td>\n",
              "      <td>dic-07</td>\n",
              "      <td>Subempleo</td>\n",
              "      <td>1155872</td>\n",
              "      <td>687714</td>\n",
              "      <td>468158</td>\n",
              "      <td>679118</td>\n",
              "      <td>476753</td>\n",
              "    </tr>\n",
              "    <tr>\n",
              "      <th>7</th>\n",
              "      <td>ENEMDU</td>\n",
              "      <td>dic-07</td>\n",
              "      <td>Subempleo por insuficiencia de tiempo de trabajo</td>\n",
              "      <td>860315</td>\n",
              "      <td>519627</td>\n",
              "      <td>340688</td>\n",
              "      <td>474355</td>\n",
              "      <td>385960</td>\n",
              "    </tr>\n",
              "    <tr>\n",
              "      <th>8</th>\n",
              "      <td>ENEMDU</td>\n",
              "      <td>dic-07</td>\n",
              "      <td>Subempleo por insuficiencia de ingresos</td>\n",
              "      <td>295556</td>\n",
              "      <td>168087</td>\n",
              "      <td>127470</td>\n",
              "      <td>204763</td>\n",
              "      <td>90793</td>\n",
              "    </tr>\n",
              "    <tr>\n",
              "      <th>9</th>\n",
              "      <td>ENEMDU</td>\n",
              "      <td>dic-07</td>\n",
              "      <td>Empleo no remunerado</td>\n",
              "      <td>557146</td>\n",
              "      <td>215994</td>\n",
              "      <td>341152</td>\n",
              "      <td>176122</td>\n",
              "      <td>381025</td>\n",
              "    </tr>\n",
              "  </tbody>\n",
              "</table>\n",
              "</div>"
            ],
            "text/plain": [
              "  Encuesta Periodo  ...   Hombre    Mujer\n",
              "0   ENEMDU  dic-07  ...  6768646  6913656\n",
              "1   ENEMDU  dic-07  ...  2226618  2146194\n",
              "2   ENEMDU  dic-07  ...  4542028  4767462\n",
              "3   ENEMDU  dic-07  ...  3777232  2558798\n",
              "4   ENEMDU  dic-07  ...  3632314  2387018\n",
              "5   ENEMDU  dic-07  ...  1907451   829707\n",
              "6   ENEMDU  dic-07  ...   679118   476753\n",
              "7   ENEMDU  dic-07  ...   474355   385960\n",
              "8   ENEMDU  dic-07  ...   204763    90793\n",
              "9   ENEMDU  dic-07  ...   176122   381025\n",
              "\n",
              "[10 rows x 8 columns]"
            ]
          },
          "metadata": {},
          "execution_count": 7
        }
      ]
    },
    {
      "cell_type": "code",
      "metadata": {
        "id": "NV7xgUGL4Sg5"
      },
      "source": [
        " "
      ],
      "execution_count": null,
      "outputs": []
    },
    {
      "cell_type": "code",
      "metadata": {
        "id": "xrNXR6wnWGcQ"
      },
      "source": [
        "# Empleo y Desempleo\n",
        "def empleo_desempleo(df_period):\n",
        "  df_filter_empleo = df_period.loc[(df_period['Indicadores'] == 'Empleo')]\n",
        "  df_filter_desempleo = df_period.loc[(df_period['Indicadores'] == 'Desempleo')]\n",
        "  df_by_periodo_empleo = df_filter_empleo.groupby(['Periodo'], as_index=False)['Total'].mean()\n",
        "  df_by_periodo_empleo.rename(columns ={\n",
        "    'Total':'Empleo'\n",
        "  }, inplace = True)\n",
        "  df_by_periodo_desempleo = df_filter_desempleo.groupby(['Periodo'], as_index=False)['Total'].mean() \n",
        "  df_by_periodo_desempleo.rename(columns ={\n",
        "    'Total':'Desempleo'\n",
        "  }, inplace = True)\n",
        "  df_ed_res = pd.merge(df_by_periodo_empleo,df_by_periodo_desempleo, on='Periodo')\n",
        "  x_data=df_ed_res['Periodo']\n",
        "  ed_fig = go.Figure(data=[\n",
        "    go.Bar(name='Empleo', x=x_data, y=df_ed_res['Empleo']),\n",
        "    go.Bar(name='Desempleo', x=x_data, y=df_ed_res['Desempleo'])\n",
        "  ])\n",
        "  ed_fig.update_yaxes(title=\"Total\")\n",
        "  ed_fig.update_xaxes(title=\"Año\")\n",
        "  ed_fig.update_layout(barmode='group')\n",
        "  ed_fig.show()\n",
        "  return ed_fig, df_ed_res\n"
      ],
      "execution_count": 8,
      "outputs": []
    },
    {
      "cell_type": "code",
      "metadata": {
        "id": "Atip2yurW45p"
      },
      "source": [
        "# Sectorización de empleo\n",
        "def empleo_sector(df_period):\n",
        "  df_es_res = df_period.groupby(['Periodo', 'Indicadores'], as_index=False)['Total'].mean()\n",
        "  df_es_res.rename(columns ={\n",
        "    'Indicadores':'Sector'\n",
        "  }, inplace = True)\n",
        "  es_fig = px.pie(df_es_res, values='Total', names='Sector', title='Sectorización de Empleo')\n",
        "  es_fig.show()\n",
        "  return es_fig, df_es_res"
      ],
      "execution_count": 9,
      "outputs": []
    },
    {
      "cell_type": "code",
      "metadata": {
        "id": "WeHor6xqW5ti"
      },
      "source": [
        "# Subempleo, Empleo pleno y Empleo no pleno\n",
        "def empleo_sub_pleno(df_period):\n",
        "  df_filter_sub_empleo = df_period.loc[(df_period['Indicadores'] == 'Subempleo')].groupby(['Periodo', 'Indicadores'], as_index=False)['Total'].mean()\n",
        "  df_filter_empleo_pleno = df_period.loc[(df_period['Indicadores'] == 'Empleo Adecuado/Pleno')].groupby(['Periodo', 'Indicadores'], as_index=False)['Total'].mean()\n",
        "  df_filter_empleo_no_pleno = df_period.loc[(df_period['Indicadores'] == 'Otro Empleo no pleno')].groupby(['Periodo', 'Indicadores'], as_index=False)['Total'].mean()\n",
        "\n",
        "  x_data=df_filter_sub_empleo['Periodo']\n",
        "  esp_fig = go.Figure(data=[\n",
        "    go.Bar(name='Subempleo', x=x_data, y=df_filter_sub_empleo['Total']),\n",
        "    go.Bar(name='Empleo Pleno', x=x_data, y=df_filter_empleo_pleno['Total']),\n",
        "    go.Bar(name='Empleo no pleno', x=x_data, y=df_filter_empleo_no_pleno['Total'])\n",
        "  ])\n",
        "  esp_fig.update_yaxes(title=\"Total\")\n",
        "  esp_fig.update_xaxes(title=\"Año\")\n",
        "  esp_fig.update_layout(barmode='group')\n",
        "  esp_fig.show()\n",
        "  return esp_fig, df_filter_sub_empleo, df_filter_empleo_pleno, df_filter_empleo_no_pleno, df_filter_empleo_no_pleno"
      ],
      "execution_count": 10,
      "outputs": []
    },
    {
      "cell_type": "code",
      "metadata": {
        "id": "Lc3ae448XDg7"
      },
      "source": [
        "def data_report(init='07', end='21'):\n",
        "  try:\n",
        "    df_period = df.copy()\n",
        "    df_period['Periodo'] = df_period['Periodo'].str[-2:]\n",
        "    df_period = df_period.loc[(df_period['Periodo']>=init) & (df_period['Periodo']<=end)]\n",
        "    # Empleo y Desempleo\n",
        "    ed_fig, df_ed_res = empleo_desempleo(df_period)\n",
        "    # Sectorización de empleo\n",
        "    es_fig, df_es_res = empleo_sector(df_period)\n",
        "    # Subempleo, Empleo pleno y Empleo no pleno\n",
        "    esp_fig, df_filter_sub_empleo, df_filter_empleo_pleno, df_filter_empleo_no_pleno = empleo_sub_pleno(df_period)\n",
        "    report = dp.Report(dp.Text(\"\"\"## Descripción de datos\"\"\"), dp.Text(\"\"\"## Descripción de datos\"\"\"), dp.Table(df.describe()), dp.Text(\"\"\"## Empleo y Desempleo\"\"\"), dp.Plot(ed_fig),dp.Text(\"\"\"## Sectorización de Empleo\"\"\"), dp.Plot(es_fig),dp.Text(\"\"\"## Sectorización de Subempleo, Empleo Pleno, Empleo no pleno\"\"\"), dp.Plot(esp_fig), dp.Text(\"\"\"## Conclusión\"\"\"),dp.Text(\"\"\"Para este trabajo se realizó una limpieza de los datos con el fin de obtener mejores resultados, para generar el reporte se usa graficas dinámicas la cual facilita la visualización de los datos y con la librería de plotly esto se hace un trabajo sencillo.\"\"\"), dp.Text(\"\"\"Los reportes se generan en base a los años enviados por parámetros esto ayuda a segmentar los datos para una mejor visualización.\"\"\"))\n",
        "    #genera el reporte en html\n",
        "    file_name = \"report-\"+init+end+\".html\"\n",
        "    report.save(path=file_name,open=True)\n",
        "  except:\n",
        "    print(\"Error rango de años invalido rangos permitidos desde 07 hasta el 21\")\n",
        "    "
      ],
      "execution_count": 13,
      "outputs": []
    },
    {
      "cell_type": "code",
      "metadata": {
        "colab": {
          "base_uri": "https://localhost:8080/",
          "height": 1000
        },
        "id": "YCa-3OpzXP28",
        "outputId": "6d9484f7-ec28-4d4f-8cf7-cc1d4a96c37c"
      },
      "source": [
        "\n",
        "init = input('Ingrese el año de inicio: ')\n",
        "end = input('Ingrese el año de fin: ')\n",
        "\n",
        "data_report(init[-2:], end[-2:])"
      ],
      "execution_count": 12,
      "outputs": [
        {
          "name": "stdout",
          "output_type": "stream",
          "text": [
            "Ingrese el año de inicio: 10\n",
            "Ingrese el año de fin: 20\n"
          ]
        },
        {
          "output_type": "display_data",
          "data": {
            "text/html": [
              "<html>\n",
              "<head><meta charset=\"utf-8\" /></head>\n",
              "<body>\n",
              "    <div>\n",
              "            <script src=\"https://cdnjs.cloudflare.com/ajax/libs/mathjax/2.7.5/MathJax.js?config=TeX-AMS-MML_SVG\"></script><script type=\"text/javascript\">if (window.MathJax) {MathJax.Hub.Config({SVG: {font: \"STIX-Web\"}});}</script>\n",
              "                <script type=\"text/javascript\">window.PlotlyConfig = {MathJaxConfig: 'local'};</script>\n",
              "        <script src=\"https://cdn.plot.ly/plotly-latest.min.js\"></script>    \n",
              "            <div id=\"22af7fed-0031-4e8c-ad73-af88d9532b2e\" class=\"plotly-graph-div\" style=\"height:525px; width:100%;\"></div>\n",
              "            <script type=\"text/javascript\">\n",
              "                \n",
              "                    window.PLOTLYENV=window.PLOTLYENV || {};\n",
              "                    \n",
              "                if (document.getElementById(\"22af7fed-0031-4e8c-ad73-af88d9532b2e\")) {\n",
              "                    Plotly.newPlot(\n",
              "                        '22af7fed-0031-4e8c-ad73-af88d9532b2e',\n",
              "                        [{\"name\": \"Empleo\", \"type\": \"bar\", \"x\": [\"10\", \"11\", \"12\", \"13\", \"14\", \"15\", \"16\", \"17\", \"18\", \"19\", \"20\"], \"y\": [6143685.5, 6264709.0, 6506555.5, 6695018.0, 6784413.75, 7151139.25, 7482333.75, 7766294.0, 7778951.0, 7853174.75, 7673343.25]}, {\"name\": \"Desempleo\", \"type\": \"bar\", \"x\": [\"10\", \"11\", \"12\", \"13\", \"14\", \"15\", \"16\", \"17\", \"18\", \"19\", \"20\"], \"y\": [365672.5, 302996.0, 279372.5, 281348.0, 304555.0, 324618.0, 423871.75, 358466.5, 330265.75, 365105.75, 456457.5]}],\n",
              "                        {\"barmode\": \"group\", \"template\": {\"data\": {\"bar\": [{\"error_x\": {\"color\": \"#2a3f5f\"}, \"error_y\": {\"color\": \"#2a3f5f\"}, \"marker\": {\"line\": {\"color\": \"#E5ECF6\", \"width\": 0.5}}, \"type\": \"bar\"}], \"barpolar\": [{\"marker\": {\"line\": {\"color\": \"#E5ECF6\", \"width\": 0.5}}, \"type\": \"barpolar\"}], \"carpet\": [{\"aaxis\": {\"endlinecolor\": \"#2a3f5f\", \"gridcolor\": \"white\", \"linecolor\": \"white\", \"minorgridcolor\": \"white\", \"startlinecolor\": \"#2a3f5f\"}, \"baxis\": {\"endlinecolor\": \"#2a3f5f\", \"gridcolor\": \"white\", \"linecolor\": \"white\", \"minorgridcolor\": \"white\", \"startlinecolor\": \"#2a3f5f\"}, \"type\": \"carpet\"}], \"choropleth\": [{\"colorbar\": {\"outlinewidth\": 0, \"ticks\": \"\"}, \"type\": \"choropleth\"}], \"contour\": [{\"colorbar\": {\"outlinewidth\": 0, \"ticks\": \"\"}, \"colorscale\": [[0.0, \"#0d0887\"], [0.1111111111111111, \"#46039f\"], [0.2222222222222222, \"#7201a8\"], [0.3333333333333333, \"#9c179e\"], [0.4444444444444444, \"#bd3786\"], [0.5555555555555556, \"#d8576b\"], [0.6666666666666666, \"#ed7953\"], [0.7777777777777778, \"#fb9f3a\"], [0.8888888888888888, \"#fdca26\"], [1.0, \"#f0f921\"]], \"type\": \"contour\"}], \"contourcarpet\": [{\"colorbar\": {\"outlinewidth\": 0, \"ticks\": \"\"}, \"type\": \"contourcarpet\"}], \"heatmap\": [{\"colorbar\": {\"outlinewidth\": 0, \"ticks\": \"\"}, \"colorscale\": [[0.0, \"#0d0887\"], [0.1111111111111111, \"#46039f\"], [0.2222222222222222, \"#7201a8\"], [0.3333333333333333, \"#9c179e\"], [0.4444444444444444, \"#bd3786\"], [0.5555555555555556, \"#d8576b\"], [0.6666666666666666, \"#ed7953\"], [0.7777777777777778, \"#fb9f3a\"], [0.8888888888888888, \"#fdca26\"], [1.0, \"#f0f921\"]], \"type\": \"heatmap\"}], \"heatmapgl\": [{\"colorbar\": {\"outlinewidth\": 0, \"ticks\": \"\"}, \"colorscale\": [[0.0, \"#0d0887\"], [0.1111111111111111, \"#46039f\"], [0.2222222222222222, \"#7201a8\"], [0.3333333333333333, \"#9c179e\"], [0.4444444444444444, \"#bd3786\"], [0.5555555555555556, \"#d8576b\"], [0.6666666666666666, \"#ed7953\"], [0.7777777777777778, \"#fb9f3a\"], [0.8888888888888888, \"#fdca26\"], [1.0, \"#f0f921\"]], \"type\": \"heatmapgl\"}], \"histogram\": [{\"marker\": {\"colorbar\": {\"outlinewidth\": 0, \"ticks\": \"\"}}, \"type\": \"histogram\"}], \"histogram2d\": [{\"colorbar\": {\"outlinewidth\": 0, \"ticks\": \"\"}, \"colorscale\": [[0.0, \"#0d0887\"], [0.1111111111111111, \"#46039f\"], [0.2222222222222222, \"#7201a8\"], [0.3333333333333333, \"#9c179e\"], [0.4444444444444444, \"#bd3786\"], [0.5555555555555556, \"#d8576b\"], [0.6666666666666666, \"#ed7953\"], [0.7777777777777778, \"#fb9f3a\"], [0.8888888888888888, \"#fdca26\"], [1.0, \"#f0f921\"]], \"type\": \"histogram2d\"}], \"histogram2dcontour\": [{\"colorbar\": {\"outlinewidth\": 0, \"ticks\": \"\"}, \"colorscale\": [[0.0, \"#0d0887\"], [0.1111111111111111, \"#46039f\"], [0.2222222222222222, \"#7201a8\"], [0.3333333333333333, \"#9c179e\"], [0.4444444444444444, \"#bd3786\"], [0.5555555555555556, \"#d8576b\"], [0.6666666666666666, \"#ed7953\"], [0.7777777777777778, \"#fb9f3a\"], [0.8888888888888888, \"#fdca26\"], [1.0, \"#f0f921\"]], \"type\": \"histogram2dcontour\"}], \"mesh3d\": [{\"colorbar\": {\"outlinewidth\": 0, \"ticks\": \"\"}, \"type\": \"mesh3d\"}], \"parcoords\": [{\"line\": {\"colorbar\": {\"outlinewidth\": 0, \"ticks\": \"\"}}, \"type\": \"parcoords\"}], \"pie\": [{\"automargin\": true, \"type\": \"pie\"}], \"scatter\": [{\"marker\": {\"colorbar\": {\"outlinewidth\": 0, \"ticks\": \"\"}}, \"type\": \"scatter\"}], \"scatter3d\": [{\"line\": {\"colorbar\": {\"outlinewidth\": 0, \"ticks\": \"\"}}, \"marker\": {\"colorbar\": {\"outlinewidth\": 0, \"ticks\": \"\"}}, \"type\": \"scatter3d\"}], \"scattercarpet\": [{\"marker\": {\"colorbar\": {\"outlinewidth\": 0, \"ticks\": \"\"}}, \"type\": \"scattercarpet\"}], \"scattergeo\": [{\"marker\": {\"colorbar\": {\"outlinewidth\": 0, \"ticks\": \"\"}}, \"type\": \"scattergeo\"}], \"scattergl\": [{\"marker\": {\"colorbar\": {\"outlinewidth\": 0, \"ticks\": \"\"}}, \"type\": \"scattergl\"}], \"scattermapbox\": [{\"marker\": {\"colorbar\": {\"outlinewidth\": 0, \"ticks\": \"\"}}, \"type\": \"scattermapbox\"}], \"scatterpolar\": [{\"marker\": {\"colorbar\": {\"outlinewidth\": 0, \"ticks\": \"\"}}, \"type\": \"scatterpolar\"}], \"scatterpolargl\": [{\"marker\": {\"colorbar\": {\"outlinewidth\": 0, \"ticks\": \"\"}}, \"type\": \"scatterpolargl\"}], \"scatterternary\": [{\"marker\": {\"colorbar\": {\"outlinewidth\": 0, \"ticks\": \"\"}}, \"type\": \"scatterternary\"}], \"surface\": [{\"colorbar\": {\"outlinewidth\": 0, \"ticks\": \"\"}, \"colorscale\": [[0.0, \"#0d0887\"], [0.1111111111111111, \"#46039f\"], [0.2222222222222222, \"#7201a8\"], [0.3333333333333333, \"#9c179e\"], [0.4444444444444444, \"#bd3786\"], [0.5555555555555556, \"#d8576b\"], [0.6666666666666666, \"#ed7953\"], [0.7777777777777778, \"#fb9f3a\"], [0.8888888888888888, \"#fdca26\"], [1.0, \"#f0f921\"]], \"type\": \"surface\"}], \"table\": [{\"cells\": {\"fill\": {\"color\": \"#EBF0F8\"}, \"line\": {\"color\": \"white\"}}, \"header\": {\"fill\": {\"color\": \"#C8D4E3\"}, \"line\": {\"color\": \"white\"}}, \"type\": \"table\"}]}, \"layout\": {\"annotationdefaults\": {\"arrowcolor\": \"#2a3f5f\", \"arrowhead\": 0, \"arrowwidth\": 1}, \"coloraxis\": {\"colorbar\": {\"outlinewidth\": 0, \"ticks\": \"\"}}, \"colorscale\": {\"diverging\": [[0, \"#8e0152\"], [0.1, \"#c51b7d\"], [0.2, \"#de77ae\"], [0.3, \"#f1b6da\"], [0.4, \"#fde0ef\"], [0.5, \"#f7f7f7\"], [0.6, \"#e6f5d0\"], [0.7, \"#b8e186\"], [0.8, \"#7fbc41\"], [0.9, \"#4d9221\"], [1, \"#276419\"]], \"sequential\": [[0.0, \"#0d0887\"], [0.1111111111111111, \"#46039f\"], [0.2222222222222222, \"#7201a8\"], [0.3333333333333333, \"#9c179e\"], [0.4444444444444444, \"#bd3786\"], [0.5555555555555556, \"#d8576b\"], [0.6666666666666666, \"#ed7953\"], [0.7777777777777778, \"#fb9f3a\"], [0.8888888888888888, \"#fdca26\"], [1.0, \"#f0f921\"]], \"sequentialminus\": [[0.0, \"#0d0887\"], [0.1111111111111111, \"#46039f\"], [0.2222222222222222, \"#7201a8\"], [0.3333333333333333, \"#9c179e\"], [0.4444444444444444, \"#bd3786\"], [0.5555555555555556, \"#d8576b\"], [0.6666666666666666, \"#ed7953\"], [0.7777777777777778, \"#fb9f3a\"], [0.8888888888888888, \"#fdca26\"], [1.0, \"#f0f921\"]]}, \"colorway\": [\"#636efa\", \"#EF553B\", \"#00cc96\", \"#ab63fa\", \"#FFA15A\", \"#19d3f3\", \"#FF6692\", \"#B6E880\", \"#FF97FF\", \"#FECB52\"], \"font\": {\"color\": \"#2a3f5f\"}, \"geo\": {\"bgcolor\": \"white\", \"lakecolor\": \"white\", \"landcolor\": \"#E5ECF6\", \"showlakes\": true, \"showland\": true, \"subunitcolor\": \"white\"}, \"hoverlabel\": {\"align\": \"left\"}, \"hovermode\": \"closest\", \"mapbox\": {\"style\": \"light\"}, \"paper_bgcolor\": \"white\", \"plot_bgcolor\": \"#E5ECF6\", \"polar\": {\"angularaxis\": {\"gridcolor\": \"white\", \"linecolor\": \"white\", \"ticks\": \"\"}, \"bgcolor\": \"#E5ECF6\", \"radialaxis\": {\"gridcolor\": \"white\", \"linecolor\": \"white\", \"ticks\": \"\"}}, \"scene\": {\"xaxis\": {\"backgroundcolor\": \"#E5ECF6\", \"gridcolor\": \"white\", \"gridwidth\": 2, \"linecolor\": \"white\", \"showbackground\": true, \"ticks\": \"\", \"zerolinecolor\": \"white\"}, \"yaxis\": {\"backgroundcolor\": \"#E5ECF6\", \"gridcolor\": \"white\", \"gridwidth\": 2, \"linecolor\": \"white\", \"showbackground\": true, \"ticks\": \"\", \"zerolinecolor\": \"white\"}, \"zaxis\": {\"backgroundcolor\": \"#E5ECF6\", \"gridcolor\": \"white\", \"gridwidth\": 2, \"linecolor\": \"white\", \"showbackground\": true, \"ticks\": \"\", \"zerolinecolor\": \"white\"}}, \"shapedefaults\": {\"line\": {\"color\": \"#2a3f5f\"}}, \"ternary\": {\"aaxis\": {\"gridcolor\": \"white\", \"linecolor\": \"white\", \"ticks\": \"\"}, \"baxis\": {\"gridcolor\": \"white\", \"linecolor\": \"white\", \"ticks\": \"\"}, \"bgcolor\": \"#E5ECF6\", \"caxis\": {\"gridcolor\": \"white\", \"linecolor\": \"white\", \"ticks\": \"\"}}, \"title\": {\"x\": 0.05}, \"xaxis\": {\"automargin\": true, \"gridcolor\": \"white\", \"linecolor\": \"white\", \"ticks\": \"\", \"title\": {\"standoff\": 15}, \"zerolinecolor\": \"white\", \"zerolinewidth\": 2}, \"yaxis\": {\"automargin\": true, \"gridcolor\": \"white\", \"linecolor\": \"white\", \"ticks\": \"\", \"title\": {\"standoff\": 15}, \"zerolinecolor\": \"white\", \"zerolinewidth\": 2}}}, \"xaxis\": {\"title\": {\"text\": \"A\\u00f1o\"}}, \"yaxis\": {\"title\": {\"text\": \"Total\"}}},\n",
              "                        {\"responsive\": true}\n",
              "                    ).then(function(){\n",
              "                            \n",
              "var gd = document.getElementById('22af7fed-0031-4e8c-ad73-af88d9532b2e');\n",
              "var x = new MutationObserver(function (mutations, observer) {{\n",
              "        var display = window.getComputedStyle(gd).display;\n",
              "        if (!display || display === 'none') {{\n",
              "            console.log([gd, 'removed!']);\n",
              "            Plotly.purge(gd);\n",
              "            observer.disconnect();\n",
              "        }}\n",
              "}});\n",
              "\n",
              "// Listen for the removal of the full notebook cells\n",
              "var notebookContainer = gd.closest('#notebook-container');\n",
              "if (notebookContainer) {{\n",
              "    x.observe(notebookContainer, {childList: true});\n",
              "}}\n",
              "\n",
              "// Listen for the clearing of the current output cell\n",
              "var outputEl = gd.closest('.output');\n",
              "if (outputEl) {{\n",
              "    x.observe(outputEl, {childList: true});\n",
              "}}\n",
              "\n",
              "                        })\n",
              "                };\n",
              "                \n",
              "            </script>\n",
              "        </div>\n",
              "</body>\n",
              "</html>"
            ]
          },
          "metadata": {}
        },
        {
          "output_type": "display_data",
          "data": {
            "text/html": [
              "<html>\n",
              "<head><meta charset=\"utf-8\" /></head>\n",
              "<body>\n",
              "    <div>\n",
              "            <script src=\"https://cdnjs.cloudflare.com/ajax/libs/mathjax/2.7.5/MathJax.js?config=TeX-AMS-MML_SVG\"></script><script type=\"text/javascript\">if (window.MathJax) {MathJax.Hub.Config({SVG: {font: \"STIX-Web\"}});}</script>\n",
              "                <script type=\"text/javascript\">window.PlotlyConfig = {MathJaxConfig: 'local'};</script>\n",
              "        <script src=\"https://cdn.plot.ly/plotly-latest.min.js\"></script>    \n",
              "            <div id=\"79801a19-516c-4d6a-997e-499a9ad8e543\" class=\"plotly-graph-div\" style=\"height:525px; width:100%;\"></div>\n",
              "            <script type=\"text/javascript\">\n",
              "                \n",
              "                    window.PLOTLYENV=window.PLOTLYENV || {};\n",
              "                    \n",
              "                if (document.getElementById(\"79801a19-516c-4d6a-997e-499a9ad8e543\")) {\n",
              "                    Plotly.newPlot(\n",
              "                        '79801a19-516c-4d6a-997e-499a9ad8e543',\n",
              "                        [{\"domain\": {\"x\": [0.0, 1.0], \"y\": [0.0, 1.0]}, \"hoverlabel\": {\"namelength\": 0}, \"hovertemplate\": \"Sector=%{label}<br>Total=%{value}\", \"labels\": [\"Desempleo\", \"Desempleo Abierto\", \"Desempleo Cesante\", \"Desempleo Nuevo\", \"Desempleo Oculto\", \"Empleo\", \"Empleo Adecuado/Pleno\", \"Empleo no clasificado\", \"Empleo no remunerado\", \"Otro Empleo no pleno\", \"Poblaci\\u00f3n Econ\\u00f3micamente Activa\", \"Poblaci\\u00f3n Econ\\u00f3micamente Inactiva\", \"Poblaci\\u00f3n Total\", \"Poblaci\\u00f3n en Edad de Trabajar (PET)\", \"Poblaci\\u00f3n menor de 15 a\\u00f1os\", \"Subempleo\", \"Subempleo por insuficiencia de ingresos\", \"Subempleo por insuficiencia de tiempo de trabajo\", \"Desempleo\", \"Desempleo Abierto\", \"Desempleo Cesante\", \"Desempleo Nuevo\", \"Desempleo Oculto\", \"Empleo\", \"Empleo Adecuado/Pleno\", \"Empleo no clasificado\", \"Empleo no remunerado\", \"Otro Empleo no pleno\", \"Poblaci\\u00f3n Econ\\u00f3micamente Activa\", \"Poblaci\\u00f3n Econ\\u00f3micamente Inactiva\", \"Poblaci\\u00f3n Total\", \"Poblaci\\u00f3n en Edad de Trabajar (PET)\", \"Poblaci\\u00f3n menor de 15 a\\u00f1os\", \"Subempleo\", \"Subempleo por insuficiencia de ingresos\", \"Subempleo por insuficiencia de tiempo de trabajo\", \"Desempleo\", \"Desempleo Abierto\", \"Desempleo Cesante\", \"Desempleo Nuevo\", \"Desempleo Oculto\", \"Empleo\", \"Empleo Adecuado/Pleno\", \"Empleo no clasificado\", \"Empleo no remunerado\", \"Otro Empleo no pleno\", \"Poblaci\\u00f3n Econ\\u00f3micamente Activa\", \"Poblaci\\u00f3n Econ\\u00f3micamente Inactiva\", \"Poblaci\\u00f3n Total\", \"Poblaci\\u00f3n en Edad de Trabajar (PET)\", \"Poblaci\\u00f3n menor de 15 a\\u00f1os\", \"Subempleo\", \"Subempleo por insuficiencia de ingresos\", \"Subempleo por insuficiencia de tiempo de trabajo\", \"Desempleo\", \"Desempleo Abierto\", \"Desempleo Cesante\", \"Desempleo Nuevo\", \"Desempleo Oculto\", \"Empleo\", \"Empleo Adecuado/Pleno\", \"Empleo no clasificado\", \"Empleo no remunerado\", \"Otro Empleo no pleno\", \"Poblaci\\u00f3n Econ\\u00f3micamente Activa\", \"Poblaci\\u00f3n Econ\\u00f3micamente Inactiva\", \"Poblaci\\u00f3n Total\", \"Poblaci\\u00f3n en Edad de Trabajar (PET)\", \"Poblaci\\u00f3n menor de 15 a\\u00f1os\", \"Subempleo\", \"Subempleo por insuficiencia de ingresos\", \"Subempleo por insuficiencia de tiempo de trabajo\", \"Desempleo\", \"Desempleo Abierto\", \"Desempleo Cesante\", \"Desempleo Nuevo\", \"Desempleo Oculto\", \"Empleo\", \"Empleo Adecuado/Pleno\", \"Empleo no clasificado\", \"Empleo no remunerado\", \"Otro Empleo no pleno\", \"Poblaci\\u00f3n Econ\\u00f3micamente Activa\", \"Poblaci\\u00f3n Econ\\u00f3micamente Inactiva\", \"Poblaci\\u00f3n Total\", \"Poblaci\\u00f3n en Edad de Trabajar (PET)\", \"Poblaci\\u00f3n menor de 15 a\\u00f1os\", \"Subempleo\", \"Subempleo por insuficiencia de ingresos\", \"Subempleo por insuficiencia de tiempo de trabajo\", \"Desempleo\", \"Desempleo Abierto\", \"Desempleo Cesante\", \"Desempleo Nuevo\", \"Desempleo Oculto\", \"Empleo\", \"Empleo Adecuado/Pleno\", \"Empleo no clasificado\", \"Empleo no remunerado\", \"Otro Empleo no pleno\", \"Poblaci\\u00f3n Econ\\u00f3micamente Activa\", \"Poblaci\\u00f3n Econ\\u00f3micamente Inactiva\", \"Poblaci\\u00f3n Total\", \"Poblaci\\u00f3n en Edad de Trabajar (PET)\", \"Poblaci\\u00f3n menor de 15 a\\u00f1os\", \"Subempleo\", \"Subempleo por insuficiencia de ingresos\", \"Subempleo por insuficiencia de tiempo de trabajo\", \"Desempleo\", \"Desempleo Abierto\", \"Desempleo Cesante\", \"Desempleo Nuevo\", \"Desempleo Oculto\", \"Empleo\", \"Empleo Adecuado/Pleno\", \"Empleo no clasificado\", \"Empleo no remunerado\", \"Otro Empleo no pleno\", \"Poblaci\\u00f3n Econ\\u00f3micamente Activa\", \"Poblaci\\u00f3n Econ\\u00f3micamente Inactiva\", \"Poblaci\\u00f3n Total\", \"Poblaci\\u00f3n en Edad de Trabajar (PET)\", \"Poblaci\\u00f3n menor de 15 a\\u00f1os\", \"Subempleo\", \"Subempleo por insuficiencia de ingresos\", \"Subempleo por insuficiencia de tiempo de trabajo\", \"Desempleo\", \"Desempleo Abierto\", \"Desempleo Cesante\", \"Desempleo Nuevo\", \"Desempleo Oculto\", \"Empleo\", \"Empleo Adecuado/Pleno\", \"Empleo no clasificado\", \"Empleo no remunerado\", \"Otro Empleo no pleno\", \"Poblaci\\u00f3n Econ\\u00f3micamente Activa\", \"Poblaci\\u00f3n Econ\\u00f3micamente Inactiva\", \"Poblaci\\u00f3n Total\", \"Poblaci\\u00f3n Total \", \"Poblaci\\u00f3n en Edad de Trabajar (PET)\", \"Poblaci\\u00f3n menor de 15 a\\u00f1os\", \"Subempleo\", \"Subempleo por insuficiencia de ingresos\", \"Subempleo por insuficiencia de tiempo de trabajo\", \"Desempleo\", \"Desempleo Abierto\", \"Desempleo Cesante\", \"Desempleo Nuevo\", \"Desempleo Oculto\", \"Empleo\", \"Empleo Adecuado/Pleno\", \"Empleo no clasificado\", \"Empleo no remunerado\", \"Otro Empleo no pleno\", \"Poblaci\\u00f3n Econ\\u00f3micamente Activa\", \"Poblaci\\u00f3n Econ\\u00f3micamente Inactiva\", \"Poblaci\\u00f3n Total\", \"Poblaci\\u00f3n en Edad de Trabajar (PET)\", \"Poblaci\\u00f3n menor de 15 a\\u00f1os\", \"Subempleo\", \"Subempleo por insuficiencia de ingresos\", \"Subempleo por insuficiencia de tiempo de trabajo\", \"Desempleo\", \"Desempleo Abierto\", \"Desempleo Cesante\", \"Desempleo Nuevo\", \"Desempleo Oculto\", \"Empleo\", \"Empleo Adecuado/Pleno\", \"Empleo no clasificado\", \"Empleo no remunerado\", \"Otro Empleo no pleno\", \"Poblaci\\u00f3n Econ\\u00f3micamente Activa\", \"Poblaci\\u00f3n Econ\\u00f3micamente Inactiva\", \"Poblaci\\u00f3n Total\", \"Poblaci\\u00f3n en Edad de Trabajar (PET)\", \"Poblaci\\u00f3n menor de 15 a\\u00f1os\", \"Subempleo\", \"Subempleo por insuficiencia de ingresos\", \"Subempleo por insuficiencia de tiempo de trabajo\", \"Desempleo\", \"Desempleo Abierto\", \"Desempleo Cesante\", \"Desempleo Nuevo\", \"Desempleo Oculto\", \"Empleo\", \"Empleo Adecuado/Pleno\", \"Empleo no clasificado\", \"Empleo no remunerado\", \"Otro Empleo no pleno\", \"Poblaci\\u00f3n Econ\\u00f3micamente Activa\", \"Poblaci\\u00f3n Econ\\u00f3micamente Inactiva\", \"Poblaci\\u00f3n Total\", \"Poblaci\\u00f3n en Edad de Trabajar (PET)\", \"Poblaci\\u00f3n menor de 15 a\\u00f1os\", \"Subempleo\", \"Subempleo por insuficiencia de ingresos\", \"Subempleo por insuficiencia de tiempo de trabajo\"], \"legendgroup\": \"\", \"name\": \"\", \"showlegend\": true, \"type\": \"pie\", \"values\": [365672.5, 260131.0, 234769.0, 130903.5, 105542.0, 6143685.5, 2795537.5, 70330.5, 523766.5, 1788790.5, 6509358.5, 3710085.0, 14230109.5, 10219443.0, 4010666.5, 965260.5, 247252.5, 718008.5, 302996.0, 223123.5, 194892.5, 108103.5, 79872.5, 6264709.0, 2893045.5, 50258.5, 532476.5, 2044937.0, 6567705.0, 3936789.0, 14428483.0, 10504493.5, 3923989.0, 743991.5, 172578.0, 571413.5, 279372.5, 217110.5, 180321.5, 99051.0, 62262.0, 6506555.5, 3111499.0, 121657.0, 597977.0, 2040986.5, 6785928.0, 3982700.0, 14630644.0, 10768752.5, 3861891.5, 634436.0, 120516.0, 513920.0, 281348.0, 212010.5, 176870.5, 104477.5, 69337.5, 6695018.0, 3163264.5, 54510.5, 581142.0, 2082403.5, 6976365.5, 4120589.5, 15330223.0, 11096955.0, 4233268.0, 813697.5, 151199.5, 662498.0, 304555.0, 242639.25, 208742.5, 95812.75, 61915.5, 6784413.75, 3391765.25, 18601.25, 499701.0, 1983901.75, 7088968.75, 4137230.75, 16043459.5, 11226199.5, 4817260.0, 890444.5, 173226.75, 717218.0, 324618.0, 267363.75, 242718.5, 81899.5, 57254.5, 7151139.25, 3404390.25, 39145.75, 640885.25, 2032688.75, 7475757.25, 3824591.0, 16295805.0, 11300348.5, 4995456.25, 1034029.25, 193764.5, 840264.5, 423871.75, 359058.75, 335040.75, 88831.5, 64813.25, 7482333.75, 3188784.0, 22728.25, 762837.25, 2070205.75, 7906205.5, 3683858.75, 16584319.25, 11590064.75, 4994254.75, 1437778.75, 263798.0, 1173980.5, 358466.5, 308453.25, 269349.25, 89117.5, 50012.75, 7766294.0, 3275341.0, 20578.0, 814741.75, 1986290.0, 8124760.75, 3725329.75, 16738420.0, 16848824.333333332, 11850090.5, 4971132.75, 1669343.5, 347178.75, 1322164.75, 330265.75, 284079.5, 234483.5, 95782.25, 46186.5, 7778951.0, 3249694.5, 36342.75, 837075.25, 2162808.0, 8109217.0, 3987653.0, 17092735.0, 12096869.75, 4995865.25, 1493030.0, 296012.5, 1197018.0, 365105.75, 310028.0, 260297.25, 104808.25, 55077.75, 7853174.75, 3148216.75, 50175.0, 876608.25, 2207743.5, 8218280.25, 4119473.75, 17363346.25, 12337754.0, 5025592.25, 1570431.25, 267344.5, 1303086.75, 456457.5, 392163.0, 348228.5, 108229.25, 64294.75, 7673343.25, 2395943.75, 67007.0, 979231.25, 2253043.75, 8129800.75, 4422656.5, 17665510.0, 12552457.25, 5113053.0, 1978116.75, 217495.0, 1760621.5]}],\n",
              "                        {\"legend\": {\"tracegroupgap\": 0}, \"template\": {\"data\": {\"bar\": [{\"error_x\": {\"color\": \"#2a3f5f\"}, \"error_y\": {\"color\": \"#2a3f5f\"}, \"marker\": {\"line\": {\"color\": \"#E5ECF6\", \"width\": 0.5}}, \"type\": \"bar\"}], \"barpolar\": [{\"marker\": {\"line\": {\"color\": \"#E5ECF6\", \"width\": 0.5}}, \"type\": \"barpolar\"}], \"carpet\": [{\"aaxis\": {\"endlinecolor\": \"#2a3f5f\", \"gridcolor\": \"white\", \"linecolor\": \"white\", \"minorgridcolor\": \"white\", \"startlinecolor\": \"#2a3f5f\"}, \"baxis\": {\"endlinecolor\": \"#2a3f5f\", \"gridcolor\": \"white\", \"linecolor\": \"white\", \"minorgridcolor\": \"white\", \"startlinecolor\": \"#2a3f5f\"}, \"type\": \"carpet\"}], \"choropleth\": [{\"colorbar\": {\"outlinewidth\": 0, \"ticks\": \"\"}, \"type\": \"choropleth\"}], \"contour\": [{\"colorbar\": {\"outlinewidth\": 0, \"ticks\": \"\"}, \"colorscale\": [[0.0, \"#0d0887\"], [0.1111111111111111, \"#46039f\"], [0.2222222222222222, \"#7201a8\"], [0.3333333333333333, \"#9c179e\"], [0.4444444444444444, \"#bd3786\"], [0.5555555555555556, \"#d8576b\"], [0.6666666666666666, \"#ed7953\"], [0.7777777777777778, \"#fb9f3a\"], [0.8888888888888888, \"#fdca26\"], [1.0, \"#f0f921\"]], \"type\": \"contour\"}], \"contourcarpet\": [{\"colorbar\": {\"outlinewidth\": 0, \"ticks\": \"\"}, \"type\": \"contourcarpet\"}], \"heatmap\": [{\"colorbar\": {\"outlinewidth\": 0, \"ticks\": \"\"}, \"colorscale\": [[0.0, \"#0d0887\"], [0.1111111111111111, \"#46039f\"], [0.2222222222222222, \"#7201a8\"], [0.3333333333333333, \"#9c179e\"], [0.4444444444444444, \"#bd3786\"], [0.5555555555555556, \"#d8576b\"], [0.6666666666666666, \"#ed7953\"], [0.7777777777777778, \"#fb9f3a\"], [0.8888888888888888, \"#fdca26\"], [1.0, \"#f0f921\"]], \"type\": \"heatmap\"}], \"heatmapgl\": [{\"colorbar\": {\"outlinewidth\": 0, \"ticks\": \"\"}, \"colorscale\": [[0.0, \"#0d0887\"], [0.1111111111111111, \"#46039f\"], [0.2222222222222222, \"#7201a8\"], [0.3333333333333333, \"#9c179e\"], [0.4444444444444444, \"#bd3786\"], [0.5555555555555556, \"#d8576b\"], [0.6666666666666666, \"#ed7953\"], [0.7777777777777778, \"#fb9f3a\"], [0.8888888888888888, \"#fdca26\"], [1.0, \"#f0f921\"]], \"type\": \"heatmapgl\"}], \"histogram\": [{\"marker\": {\"colorbar\": {\"outlinewidth\": 0, \"ticks\": \"\"}}, \"type\": \"histogram\"}], \"histogram2d\": [{\"colorbar\": {\"outlinewidth\": 0, \"ticks\": \"\"}, \"colorscale\": [[0.0, \"#0d0887\"], [0.1111111111111111, \"#46039f\"], [0.2222222222222222, \"#7201a8\"], [0.3333333333333333, \"#9c179e\"], [0.4444444444444444, \"#bd3786\"], [0.5555555555555556, \"#d8576b\"], [0.6666666666666666, \"#ed7953\"], [0.7777777777777778, \"#fb9f3a\"], [0.8888888888888888, \"#fdca26\"], [1.0, \"#f0f921\"]], \"type\": \"histogram2d\"}], \"histogram2dcontour\": [{\"colorbar\": {\"outlinewidth\": 0, \"ticks\": \"\"}, \"colorscale\": [[0.0, \"#0d0887\"], [0.1111111111111111, \"#46039f\"], [0.2222222222222222, \"#7201a8\"], [0.3333333333333333, \"#9c179e\"], [0.4444444444444444, \"#bd3786\"], [0.5555555555555556, \"#d8576b\"], [0.6666666666666666, \"#ed7953\"], [0.7777777777777778, \"#fb9f3a\"], [0.8888888888888888, \"#fdca26\"], [1.0, \"#f0f921\"]], \"type\": \"histogram2dcontour\"}], \"mesh3d\": [{\"colorbar\": {\"outlinewidth\": 0, \"ticks\": \"\"}, \"type\": \"mesh3d\"}], \"parcoords\": [{\"line\": {\"colorbar\": {\"outlinewidth\": 0, \"ticks\": \"\"}}, \"type\": \"parcoords\"}], \"pie\": [{\"automargin\": true, \"type\": \"pie\"}], \"scatter\": [{\"marker\": {\"colorbar\": {\"outlinewidth\": 0, \"ticks\": \"\"}}, \"type\": \"scatter\"}], \"scatter3d\": [{\"line\": {\"colorbar\": {\"outlinewidth\": 0, \"ticks\": \"\"}}, \"marker\": {\"colorbar\": {\"outlinewidth\": 0, \"ticks\": \"\"}}, \"type\": \"scatter3d\"}], \"scattercarpet\": [{\"marker\": {\"colorbar\": {\"outlinewidth\": 0, \"ticks\": \"\"}}, \"type\": \"scattercarpet\"}], \"scattergeo\": [{\"marker\": {\"colorbar\": {\"outlinewidth\": 0, \"ticks\": \"\"}}, \"type\": \"scattergeo\"}], \"scattergl\": [{\"marker\": {\"colorbar\": {\"outlinewidth\": 0, \"ticks\": \"\"}}, \"type\": \"scattergl\"}], \"scattermapbox\": [{\"marker\": {\"colorbar\": {\"outlinewidth\": 0, \"ticks\": \"\"}}, \"type\": \"scattermapbox\"}], \"scatterpolar\": [{\"marker\": {\"colorbar\": {\"outlinewidth\": 0, \"ticks\": \"\"}}, \"type\": \"scatterpolar\"}], \"scatterpolargl\": [{\"marker\": {\"colorbar\": {\"outlinewidth\": 0, \"ticks\": \"\"}}, \"type\": \"scatterpolargl\"}], \"scatterternary\": [{\"marker\": {\"colorbar\": {\"outlinewidth\": 0, \"ticks\": \"\"}}, \"type\": \"scatterternary\"}], \"surface\": [{\"colorbar\": {\"outlinewidth\": 0, \"ticks\": \"\"}, \"colorscale\": [[0.0, \"#0d0887\"], [0.1111111111111111, \"#46039f\"], [0.2222222222222222, \"#7201a8\"], [0.3333333333333333, \"#9c179e\"], [0.4444444444444444, \"#bd3786\"], [0.5555555555555556, \"#d8576b\"], [0.6666666666666666, \"#ed7953\"], [0.7777777777777778, \"#fb9f3a\"], [0.8888888888888888, \"#fdca26\"], [1.0, \"#f0f921\"]], \"type\": \"surface\"}], \"table\": [{\"cells\": {\"fill\": {\"color\": \"#EBF0F8\"}, \"line\": {\"color\": \"white\"}}, \"header\": {\"fill\": {\"color\": \"#C8D4E3\"}, \"line\": {\"color\": \"white\"}}, \"type\": \"table\"}]}, \"layout\": {\"annotationdefaults\": {\"arrowcolor\": \"#2a3f5f\", \"arrowhead\": 0, \"arrowwidth\": 1}, \"coloraxis\": {\"colorbar\": {\"outlinewidth\": 0, \"ticks\": \"\"}}, \"colorscale\": {\"diverging\": [[0, \"#8e0152\"], [0.1, \"#c51b7d\"], [0.2, \"#de77ae\"], [0.3, \"#f1b6da\"], [0.4, \"#fde0ef\"], [0.5, \"#f7f7f7\"], [0.6, \"#e6f5d0\"], [0.7, \"#b8e186\"], [0.8, \"#7fbc41\"], [0.9, \"#4d9221\"], [1, \"#276419\"]], \"sequential\": [[0.0, \"#0d0887\"], [0.1111111111111111, \"#46039f\"], [0.2222222222222222, \"#7201a8\"], [0.3333333333333333, \"#9c179e\"], [0.4444444444444444, \"#bd3786\"], [0.5555555555555556, \"#d8576b\"], [0.6666666666666666, \"#ed7953\"], [0.7777777777777778, \"#fb9f3a\"], [0.8888888888888888, \"#fdca26\"], [1.0, \"#f0f921\"]], \"sequentialminus\": [[0.0, \"#0d0887\"], [0.1111111111111111, \"#46039f\"], [0.2222222222222222, \"#7201a8\"], [0.3333333333333333, \"#9c179e\"], [0.4444444444444444, \"#bd3786\"], [0.5555555555555556, \"#d8576b\"], [0.6666666666666666, \"#ed7953\"], [0.7777777777777778, \"#fb9f3a\"], [0.8888888888888888, \"#fdca26\"], [1.0, \"#f0f921\"]]}, \"colorway\": [\"#636efa\", \"#EF553B\", \"#00cc96\", \"#ab63fa\", \"#FFA15A\", \"#19d3f3\", \"#FF6692\", \"#B6E880\", \"#FF97FF\", \"#FECB52\"], \"font\": {\"color\": \"#2a3f5f\"}, \"geo\": {\"bgcolor\": \"white\", \"lakecolor\": \"white\", \"landcolor\": \"#E5ECF6\", \"showlakes\": true, \"showland\": true, \"subunitcolor\": \"white\"}, \"hoverlabel\": {\"align\": \"left\"}, \"hovermode\": \"closest\", \"mapbox\": {\"style\": \"light\"}, \"paper_bgcolor\": \"white\", \"plot_bgcolor\": \"#E5ECF6\", \"polar\": {\"angularaxis\": {\"gridcolor\": \"white\", \"linecolor\": \"white\", \"ticks\": \"\"}, \"bgcolor\": \"#E5ECF6\", \"radialaxis\": {\"gridcolor\": \"white\", \"linecolor\": \"white\", \"ticks\": \"\"}}, \"scene\": {\"xaxis\": {\"backgroundcolor\": \"#E5ECF6\", \"gridcolor\": \"white\", \"gridwidth\": 2, \"linecolor\": \"white\", \"showbackground\": true, \"ticks\": \"\", \"zerolinecolor\": \"white\"}, \"yaxis\": {\"backgroundcolor\": \"#E5ECF6\", \"gridcolor\": \"white\", \"gridwidth\": 2, \"linecolor\": \"white\", \"showbackground\": true, \"ticks\": \"\", \"zerolinecolor\": \"white\"}, \"zaxis\": {\"backgroundcolor\": \"#E5ECF6\", \"gridcolor\": \"white\", \"gridwidth\": 2, \"linecolor\": \"white\", \"showbackground\": true, \"ticks\": \"\", \"zerolinecolor\": \"white\"}}, \"shapedefaults\": {\"line\": {\"color\": \"#2a3f5f\"}}, \"ternary\": {\"aaxis\": {\"gridcolor\": \"white\", \"linecolor\": \"white\", \"ticks\": \"\"}, \"baxis\": {\"gridcolor\": \"white\", \"linecolor\": \"white\", \"ticks\": \"\"}, \"bgcolor\": \"#E5ECF6\", \"caxis\": {\"gridcolor\": \"white\", \"linecolor\": \"white\", \"ticks\": \"\"}}, \"title\": {\"x\": 0.05}, \"xaxis\": {\"automargin\": true, \"gridcolor\": \"white\", \"linecolor\": \"white\", \"ticks\": \"\", \"title\": {\"standoff\": 15}, \"zerolinecolor\": \"white\", \"zerolinewidth\": 2}, \"yaxis\": {\"automargin\": true, \"gridcolor\": \"white\", \"linecolor\": \"white\", \"ticks\": \"\", \"title\": {\"standoff\": 15}, \"zerolinecolor\": \"white\", \"zerolinewidth\": 2}}}, \"title\": {\"text\": \"Sectorizaci\\u00f3n de Empleo\"}},\n",
              "                        {\"responsive\": true}\n",
              "                    ).then(function(){\n",
              "                            \n",
              "var gd = document.getElementById('79801a19-516c-4d6a-997e-499a9ad8e543');\n",
              "var x = new MutationObserver(function (mutations, observer) {{\n",
              "        var display = window.getComputedStyle(gd).display;\n",
              "        if (!display || display === 'none') {{\n",
              "            console.log([gd, 'removed!']);\n",
              "            Plotly.purge(gd);\n",
              "            observer.disconnect();\n",
              "        }}\n",
              "}});\n",
              "\n",
              "// Listen for the removal of the full notebook cells\n",
              "var notebookContainer = gd.closest('#notebook-container');\n",
              "if (notebookContainer) {{\n",
              "    x.observe(notebookContainer, {childList: true});\n",
              "}}\n",
              "\n",
              "// Listen for the clearing of the current output cell\n",
              "var outputEl = gd.closest('.output');\n",
              "if (outputEl) {{\n",
              "    x.observe(outputEl, {childList: true});\n",
              "}}\n",
              "\n",
              "                        })\n",
              "                };\n",
              "                \n",
              "            </script>\n",
              "        </div>\n",
              "</body>\n",
              "</html>"
            ]
          },
          "metadata": {}
        },
        {
          "output_type": "display_data",
          "data": {
            "text/html": [
              "<html>\n",
              "<head><meta charset=\"utf-8\" /></head>\n",
              "<body>\n",
              "    <div>\n",
              "            <script src=\"https://cdnjs.cloudflare.com/ajax/libs/mathjax/2.7.5/MathJax.js?config=TeX-AMS-MML_SVG\"></script><script type=\"text/javascript\">if (window.MathJax) {MathJax.Hub.Config({SVG: {font: \"STIX-Web\"}});}</script>\n",
              "                <script type=\"text/javascript\">window.PlotlyConfig = {MathJaxConfig: 'local'};</script>\n",
              "        <script src=\"https://cdn.plot.ly/plotly-latest.min.js\"></script>    \n",
              "            <div id=\"45260775-5397-41c8-91d2-4a4123c86df1\" class=\"plotly-graph-div\" style=\"height:525px; width:100%;\"></div>\n",
              "            <script type=\"text/javascript\">\n",
              "                \n",
              "                    window.PLOTLYENV=window.PLOTLYENV || {};\n",
              "                    \n",
              "                if (document.getElementById(\"45260775-5397-41c8-91d2-4a4123c86df1\")) {\n",
              "                    Plotly.newPlot(\n",
              "                        '45260775-5397-41c8-91d2-4a4123c86df1',\n",
              "                        [{\"name\": \"Subempleo\", \"type\": \"bar\", \"x\": [\"10\", \"11\", \"12\", \"13\", \"14\", \"15\", \"16\", \"17\", \"18\", \"19\", \"20\"], \"y\": [965260.5, 743991.5, 634436.0, 813697.5, 890444.5, 1034029.25, 1437778.75, 1669343.5, 1493030.0, 1570431.25, 1978116.75]}, {\"name\": \"Empleo Pleno\", \"type\": \"bar\", \"x\": [\"10\", \"11\", \"12\", \"13\", \"14\", \"15\", \"16\", \"17\", \"18\", \"19\", \"20\"], \"y\": [2795537.5, 2893045.5, 3111499.0, 3163264.5, 3391765.25, 3404390.25, 3188784.0, 3275341.0, 3249694.5, 3148216.75, 2395943.75]}, {\"name\": \"Empleo no pleno\", \"type\": \"bar\", \"x\": [\"10\", \"11\", \"12\", \"13\", \"14\", \"15\", \"16\", \"17\", \"18\", \"19\", \"20\"], \"y\": [1788790.5, 2044937.0, 2040986.5, 2082403.5, 1983901.75, 2032688.75, 2070205.75, 1986290.0, 2162808.0, 2207743.5, 2253043.75]}],\n",
              "                        {\"barmode\": \"group\", \"template\": {\"data\": {\"bar\": [{\"error_x\": {\"color\": \"#2a3f5f\"}, \"error_y\": {\"color\": \"#2a3f5f\"}, \"marker\": {\"line\": {\"color\": \"#E5ECF6\", \"width\": 0.5}}, \"type\": \"bar\"}], \"barpolar\": [{\"marker\": {\"line\": {\"color\": \"#E5ECF6\", \"width\": 0.5}}, \"type\": \"barpolar\"}], \"carpet\": [{\"aaxis\": {\"endlinecolor\": \"#2a3f5f\", \"gridcolor\": \"white\", \"linecolor\": \"white\", \"minorgridcolor\": \"white\", \"startlinecolor\": \"#2a3f5f\"}, \"baxis\": {\"endlinecolor\": \"#2a3f5f\", \"gridcolor\": \"white\", \"linecolor\": \"white\", \"minorgridcolor\": \"white\", \"startlinecolor\": \"#2a3f5f\"}, \"type\": \"carpet\"}], \"choropleth\": [{\"colorbar\": {\"outlinewidth\": 0, \"ticks\": \"\"}, \"type\": \"choropleth\"}], \"contour\": [{\"colorbar\": {\"outlinewidth\": 0, \"ticks\": \"\"}, \"colorscale\": [[0.0, \"#0d0887\"], [0.1111111111111111, \"#46039f\"], [0.2222222222222222, \"#7201a8\"], [0.3333333333333333, \"#9c179e\"], [0.4444444444444444, \"#bd3786\"], [0.5555555555555556, \"#d8576b\"], [0.6666666666666666, \"#ed7953\"], [0.7777777777777778, \"#fb9f3a\"], [0.8888888888888888, \"#fdca26\"], [1.0, \"#f0f921\"]], \"type\": \"contour\"}], \"contourcarpet\": [{\"colorbar\": {\"outlinewidth\": 0, \"ticks\": \"\"}, \"type\": \"contourcarpet\"}], \"heatmap\": [{\"colorbar\": {\"outlinewidth\": 0, \"ticks\": \"\"}, \"colorscale\": [[0.0, \"#0d0887\"], [0.1111111111111111, \"#46039f\"], [0.2222222222222222, \"#7201a8\"], [0.3333333333333333, \"#9c179e\"], [0.4444444444444444, \"#bd3786\"], [0.5555555555555556, \"#d8576b\"], [0.6666666666666666, \"#ed7953\"], [0.7777777777777778, \"#fb9f3a\"], [0.8888888888888888, \"#fdca26\"], [1.0, \"#f0f921\"]], \"type\": \"heatmap\"}], \"heatmapgl\": [{\"colorbar\": {\"outlinewidth\": 0, \"ticks\": \"\"}, \"colorscale\": [[0.0, \"#0d0887\"], [0.1111111111111111, \"#46039f\"], [0.2222222222222222, \"#7201a8\"], [0.3333333333333333, \"#9c179e\"], [0.4444444444444444, \"#bd3786\"], [0.5555555555555556, \"#d8576b\"], [0.6666666666666666, \"#ed7953\"], [0.7777777777777778, \"#fb9f3a\"], [0.8888888888888888, \"#fdca26\"], [1.0, \"#f0f921\"]], \"type\": \"heatmapgl\"}], \"histogram\": [{\"marker\": {\"colorbar\": {\"outlinewidth\": 0, \"ticks\": \"\"}}, \"type\": \"histogram\"}], \"histogram2d\": [{\"colorbar\": {\"outlinewidth\": 0, \"ticks\": \"\"}, \"colorscale\": [[0.0, \"#0d0887\"], [0.1111111111111111, \"#46039f\"], [0.2222222222222222, \"#7201a8\"], [0.3333333333333333, \"#9c179e\"], [0.4444444444444444, \"#bd3786\"], [0.5555555555555556, \"#d8576b\"], [0.6666666666666666, \"#ed7953\"], [0.7777777777777778, \"#fb9f3a\"], [0.8888888888888888, \"#fdca26\"], [1.0, \"#f0f921\"]], \"type\": \"histogram2d\"}], \"histogram2dcontour\": [{\"colorbar\": {\"outlinewidth\": 0, \"ticks\": \"\"}, \"colorscale\": [[0.0, \"#0d0887\"], [0.1111111111111111, \"#46039f\"], [0.2222222222222222, \"#7201a8\"], [0.3333333333333333, \"#9c179e\"], [0.4444444444444444, \"#bd3786\"], [0.5555555555555556, \"#d8576b\"], [0.6666666666666666, \"#ed7953\"], [0.7777777777777778, \"#fb9f3a\"], [0.8888888888888888, \"#fdca26\"], [1.0, \"#f0f921\"]], \"type\": \"histogram2dcontour\"}], \"mesh3d\": [{\"colorbar\": {\"outlinewidth\": 0, \"ticks\": \"\"}, \"type\": \"mesh3d\"}], \"parcoords\": [{\"line\": {\"colorbar\": {\"outlinewidth\": 0, \"ticks\": \"\"}}, \"type\": \"parcoords\"}], \"pie\": [{\"automargin\": true, \"type\": \"pie\"}], \"scatter\": [{\"marker\": {\"colorbar\": {\"outlinewidth\": 0, \"ticks\": \"\"}}, \"type\": \"scatter\"}], \"scatter3d\": [{\"line\": {\"colorbar\": {\"outlinewidth\": 0, \"ticks\": \"\"}}, \"marker\": {\"colorbar\": {\"outlinewidth\": 0, \"ticks\": \"\"}}, \"type\": \"scatter3d\"}], \"scattercarpet\": [{\"marker\": {\"colorbar\": {\"outlinewidth\": 0, \"ticks\": \"\"}}, \"type\": \"scattercarpet\"}], \"scattergeo\": [{\"marker\": {\"colorbar\": {\"outlinewidth\": 0, \"ticks\": \"\"}}, \"type\": \"scattergeo\"}], \"scattergl\": [{\"marker\": {\"colorbar\": {\"outlinewidth\": 0, \"ticks\": \"\"}}, \"type\": \"scattergl\"}], \"scattermapbox\": [{\"marker\": {\"colorbar\": {\"outlinewidth\": 0, \"ticks\": \"\"}}, \"type\": \"scattermapbox\"}], \"scatterpolar\": [{\"marker\": {\"colorbar\": {\"outlinewidth\": 0, \"ticks\": \"\"}}, \"type\": \"scatterpolar\"}], \"scatterpolargl\": [{\"marker\": {\"colorbar\": {\"outlinewidth\": 0, \"ticks\": \"\"}}, \"type\": \"scatterpolargl\"}], \"scatterternary\": [{\"marker\": {\"colorbar\": {\"outlinewidth\": 0, \"ticks\": \"\"}}, \"type\": \"scatterternary\"}], \"surface\": [{\"colorbar\": {\"outlinewidth\": 0, \"ticks\": \"\"}, \"colorscale\": [[0.0, \"#0d0887\"], [0.1111111111111111, \"#46039f\"], [0.2222222222222222, \"#7201a8\"], [0.3333333333333333, \"#9c179e\"], [0.4444444444444444, \"#bd3786\"], [0.5555555555555556, \"#d8576b\"], [0.6666666666666666, \"#ed7953\"], [0.7777777777777778, \"#fb9f3a\"], [0.8888888888888888, \"#fdca26\"], [1.0, \"#f0f921\"]], \"type\": \"surface\"}], \"table\": [{\"cells\": {\"fill\": {\"color\": \"#EBF0F8\"}, \"line\": {\"color\": \"white\"}}, \"header\": {\"fill\": {\"color\": \"#C8D4E3\"}, \"line\": {\"color\": \"white\"}}, \"type\": \"table\"}]}, \"layout\": {\"annotationdefaults\": {\"arrowcolor\": \"#2a3f5f\", \"arrowhead\": 0, \"arrowwidth\": 1}, \"coloraxis\": {\"colorbar\": {\"outlinewidth\": 0, \"ticks\": \"\"}}, \"colorscale\": {\"diverging\": [[0, \"#8e0152\"], [0.1, \"#c51b7d\"], [0.2, \"#de77ae\"], [0.3, \"#f1b6da\"], [0.4, \"#fde0ef\"], [0.5, \"#f7f7f7\"], [0.6, \"#e6f5d0\"], [0.7, \"#b8e186\"], [0.8, \"#7fbc41\"], [0.9, \"#4d9221\"], [1, \"#276419\"]], \"sequential\": [[0.0, \"#0d0887\"], [0.1111111111111111, \"#46039f\"], [0.2222222222222222, \"#7201a8\"], [0.3333333333333333, \"#9c179e\"], [0.4444444444444444, \"#bd3786\"], [0.5555555555555556, \"#d8576b\"], [0.6666666666666666, \"#ed7953\"], [0.7777777777777778, \"#fb9f3a\"], [0.8888888888888888, \"#fdca26\"], [1.0, \"#f0f921\"]], \"sequentialminus\": [[0.0, \"#0d0887\"], [0.1111111111111111, \"#46039f\"], [0.2222222222222222, \"#7201a8\"], [0.3333333333333333, \"#9c179e\"], [0.4444444444444444, \"#bd3786\"], [0.5555555555555556, \"#d8576b\"], [0.6666666666666666, \"#ed7953\"], [0.7777777777777778, \"#fb9f3a\"], [0.8888888888888888, \"#fdca26\"], [1.0, \"#f0f921\"]]}, \"colorway\": [\"#636efa\", \"#EF553B\", \"#00cc96\", \"#ab63fa\", \"#FFA15A\", \"#19d3f3\", \"#FF6692\", \"#B6E880\", \"#FF97FF\", \"#FECB52\"], \"font\": {\"color\": \"#2a3f5f\"}, \"geo\": {\"bgcolor\": \"white\", \"lakecolor\": \"white\", \"landcolor\": \"#E5ECF6\", \"showlakes\": true, \"showland\": true, \"subunitcolor\": \"white\"}, \"hoverlabel\": {\"align\": \"left\"}, \"hovermode\": \"closest\", \"mapbox\": {\"style\": \"light\"}, \"paper_bgcolor\": \"white\", \"plot_bgcolor\": \"#E5ECF6\", \"polar\": {\"angularaxis\": {\"gridcolor\": \"white\", \"linecolor\": \"white\", \"ticks\": \"\"}, \"bgcolor\": \"#E5ECF6\", \"radialaxis\": {\"gridcolor\": \"white\", \"linecolor\": \"white\", \"ticks\": \"\"}}, \"scene\": {\"xaxis\": {\"backgroundcolor\": \"#E5ECF6\", \"gridcolor\": \"white\", \"gridwidth\": 2, \"linecolor\": \"white\", \"showbackground\": true, \"ticks\": \"\", \"zerolinecolor\": \"white\"}, \"yaxis\": {\"backgroundcolor\": \"#E5ECF6\", \"gridcolor\": \"white\", \"gridwidth\": 2, \"linecolor\": \"white\", \"showbackground\": true, \"ticks\": \"\", \"zerolinecolor\": \"white\"}, \"zaxis\": {\"backgroundcolor\": \"#E5ECF6\", \"gridcolor\": \"white\", \"gridwidth\": 2, \"linecolor\": \"white\", \"showbackground\": true, \"ticks\": \"\", \"zerolinecolor\": \"white\"}}, \"shapedefaults\": {\"line\": {\"color\": \"#2a3f5f\"}}, \"ternary\": {\"aaxis\": {\"gridcolor\": \"white\", \"linecolor\": \"white\", \"ticks\": \"\"}, \"baxis\": {\"gridcolor\": \"white\", \"linecolor\": \"white\", \"ticks\": \"\"}, \"bgcolor\": \"#E5ECF6\", \"caxis\": {\"gridcolor\": \"white\", \"linecolor\": \"white\", \"ticks\": \"\"}}, \"title\": {\"x\": 0.05}, \"xaxis\": {\"automargin\": true, \"gridcolor\": \"white\", \"linecolor\": \"white\", \"ticks\": \"\", \"title\": {\"standoff\": 15}, \"zerolinecolor\": \"white\", \"zerolinewidth\": 2}, \"yaxis\": {\"automargin\": true, \"gridcolor\": \"white\", \"linecolor\": \"white\", \"ticks\": \"\", \"title\": {\"standoff\": 15}, \"zerolinecolor\": \"white\", \"zerolinewidth\": 2}}}, \"xaxis\": {\"title\": {\"text\": \"A\\u00f1o\"}}, \"yaxis\": {\"title\": {\"text\": \"Total\"}}},\n",
              "                        {\"responsive\": true}\n",
              "                    ).then(function(){\n",
              "                            \n",
              "var gd = document.getElementById('45260775-5397-41c8-91d2-4a4123c86df1');\n",
              "var x = new MutationObserver(function (mutations, observer) {{\n",
              "        var display = window.getComputedStyle(gd).display;\n",
              "        if (!display || display === 'none') {{\n",
              "            console.log([gd, 'removed!']);\n",
              "            Plotly.purge(gd);\n",
              "            observer.disconnect();\n",
              "        }}\n",
              "}});\n",
              "\n",
              "// Listen for the removal of the full notebook cells\n",
              "var notebookContainer = gd.closest('#notebook-container');\n",
              "if (notebookContainer) {{\n",
              "    x.observe(notebookContainer, {childList: true});\n",
              "}}\n",
              "\n",
              "// Listen for the clearing of the current output cell\n",
              "var outputEl = gd.closest('.output');\n",
              "if (outputEl) {{\n",
              "    x.observe(outputEl, {childList: true});\n",
              "}}\n",
              "\n",
              "                        })\n",
              "                };\n",
              "                \n",
              "            </script>\n",
              "        </div>\n",
              "</body>\n",
              "</html>"
            ]
          },
          "metadata": {}
        },
        {
          "output_type": "stream",
          "name": "stdout",
          "text": [
            "Error rango de años invalido rangos permitidos desde 07 hasta el 21\n"
          ]
        }
      ]
    },
    {
      "cell_type": "markdown",
      "metadata": {
        "id": "lE1Q9P49XnR4"
      },
      "source": [
        "#Concluciones:     \n",
        "Para obtener los resultados se ha trabajado con  datos de poblacion, donde hemos podido obtener los resultados de diferentes acciones que se han dado por años\n"
      ]
    }
  ]
}