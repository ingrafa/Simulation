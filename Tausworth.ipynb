{
  "nbformat": 4,
  "nbformat_minor": 0,
  "metadata": {
    "colab": {
      "name": "Tausworth.ipynb",
      "provenance": [],
      "authorship_tag": "ABX9TyPdv/GRB6hJXcfMHMJsjcur",
      "include_colab_link": true
    },
    "kernelspec": {
      "name": "python3",
      "display_name": "Python 3"
    },
    "language_info": {
      "name": "python"
    }
  },
  "cells": [
    {
      "cell_type": "markdown",
      "metadata": {
        "id": "view-in-github",
        "colab_type": "text"
      },
      "source": [
        "<a href=\"https://colab.research.google.com/github/ingrafa/Simulation/blob/main/Tausworth.ipynb\" target=\"_parent\"><img src=\"https://colab.research.google.com/assets/colab-badge.svg\" alt=\"Open In Colab\"/></a>"
      ]
    },
    {
      "cell_type": "markdown",
      "source": [
        ""
      ],
      "metadata": {
        "id": "gKPVuRguTc_-"
      }
    },
    {
      "cell_type": "markdown",
      "source": [
        "Investigación e implementación del algoritmo Tausworth\n"
      ],
      "metadata": {
        "id": "2NYIKNXsTdHS"
      }
    },
    {
      "cell_type": "code",
      "source": [
        "#Generador Tausworthe de 4 bits\n",
        "from itertools import zip_longest\n",
        "\n",
        "r = int(input(\"Ingrese el valor de r: \"))\n",
        "q = int(input(\"Ingrese el valor de q: \"))\n",
        "\n",
        "def operacionXOR(a,b):\n",
        "  ab = 1\n",
        "  if a  == b:\n",
        "    ab = 0\n",
        "  return ab\n",
        "\n",
        "bits = []\n",
        "b = (2**q) - 1\n",
        "\n",
        "for i in range(0,b):\n",
        "  bits.append(0)\n",
        "\n",
        "\n",
        "for i in range(0,q):\n",
        "  bits[i] = 1\n",
        "  bits.append(1)\n",
        "\n",
        "a = q+1\n",
        "for i in range(a,len(bits)):\n",
        "  i1 = i - r\n",
        "  i2 = i - q\n",
        "  bits[i] = operacionXOR(bits[i1],bits[i2])\n",
        "\n",
        "\n",
        "def binaryToDecimal(binario):\n",
        "  a = 0\n",
        "  p = 3\n",
        "  for i in range(0,len(binario)):\n",
        "    if binario[i] == 1:\n",
        "      a += 2**(p-i)\n",
        "  return a\n",
        "\n",
        "\n",
        "\n",
        "test_list = bits\n",
        "\n",
        "\n",
        "def group_elements(n, iterable, padvalue='1'):\n",
        "    return zip_longest(*[iter(iterable)]*n, fillvalue=padvalue)\n",
        "\n",
        "print(\"\\n\",\"It.\", \"\\t\", \"Base 2\", \"\\t\",\"Base 10\",\"\\t\",\"Ui\",\"\\n\")\n",
        "d = 0\n",
        "for output in group_elements(4,test_list):\n",
        "    lst_new = [str(a) for a in output]\n",
        "    print(d,\"\\t\" ,\" \".join(lst_new), \"\\t\", binaryToDecimal(output), \"\\t\", \"\\t\", binaryToDecimal(output)/16)\n",
        "    d +=1"
      ],
      "metadata": {
        "id": "vrUftnCKTfAh"
      },
      "execution_count": null,
      "outputs": []
    },
    {
      "cell_type": "code",
      "source": [
        ""
      ],
      "metadata": {
        "id": "66D9Lo2qTxha"
      },
      "execution_count": null,
      "outputs": []
    }
  ]
}